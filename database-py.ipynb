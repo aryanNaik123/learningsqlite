{
  "nbformat": 4,
  "nbformat_minor": 0,
  "metadata": {
    "colab": {
      "name": "database.py",
      "provenance": [],
      "collapsed_sections": [],
      "authorship_tag": "ABX9TyMr4hECW1gWB3yNUBCxQASA"
    },
    "kernelspec": {
      "name": "python3",
      "display_name": "Python 3"
    },
    "language_info": {
      "name": "python"
    }
  },
  "cells": [
    {
      "cell_type": "code",
      "metadata": {
        "id": "7KdyFWcgEp-y"
      },
      "source": [
        "import sqlite3\n",
        "\n",
        "# conn = sqlite3.connect(':memory:')\n",
        "\n",
        "conn = sqlite3.connect('customer.db')"
      ],
      "execution_count": 1,
      "outputs": []
    },
    {
      "cell_type": "code",
      "metadata": {
        "colab": {
          "base_uri": "https://localhost:8080/"
        },
        "id": "FwsgcEFKGCO0",
        "outputId": "c7f603ac-aa39-43be-c0d3-d52dc49e8bb7"
      },
      "source": [
        "! dir"
      ],
      "execution_count": 2,
      "outputs": [
        {
          "output_type": "stream",
          "text": [
            "customer.db  sample_data\n"
          ],
          "name": "stdout"
        }
      ]
    },
    {
      "cell_type": "code",
      "metadata": {
        "id": "v3NEtx7oGgVM"
      },
      "source": [
        "# create a cursor \n",
        "c = conn.cursor()"
      ],
      "execution_count": 3,
      "outputs": []
    },
    {
      "cell_type": "code",
      "metadata": {
        "id": "Vqle3-dGG1um"
      },
      "source": [
        "# Create a table \n",
        "c.execute(\"\"\"CREATE TABLE customers (\n",
        "\t\tfirst_name text,\n",
        "\t\tlast_name text,\n",
        "\t\temail text\n",
        "\t\t)\"\"\")\n",
        "\n",
        "\n",
        "# commit our command\n",
        "conn.commit()"
      ],
      "execution_count": 4,
      "outputs": []
    },
    {
      "cell_type": "code",
      "metadata": {
        "id": "MOsxrpwfLYor"
      },
      "source": [
        "c.execute(\"INSERT INTO customers VALUES ('John', 'Elder', 'john@gmail.com')\")\n",
        "conn.commit()\n",
        "conn.close()"
      ],
      "execution_count": 5,
      "outputs": []
    },
    {
      "cell_type": "code",
      "metadata": {
        "id": "obVfUVDNLvrL"
      },
      "source": [
        "import sqlite3\n",
        "\n",
        "# conn = sqlite3.connect(':memory:')\n",
        "\n",
        "conn = sqlite3.connect('customer.db')\n",
        "\n",
        "c = conn.cursor()\n",
        "\n",
        "c.execute(\"INSERT INTO customers VALUES ('Mary', 'Brown', 'mary@gmail.com')\")\n",
        "conn.commit()\n"
      ],
      "execution_count": 6,
      "outputs": []
    },
    {
      "cell_type": "code",
      "metadata": {
        "id": "wT8rpS2iM4ai"
      },
      "source": [
        "import sqlite3\n",
        "\n",
        "conn = sqlite3.connect('customer.db')\n",
        "\n",
        "c = conn.cursor()\n",
        "\n",
        "many_customers = [\n",
        "                  ('Wes', 'Brown', 'wes@brown.com'), \n",
        "                  ('Steph', 'Kuewa', 'steph@kuewa.com'),\n",
        "                  ('Dan', 'Pas', 'dan@pas.com')\n",
        "                ]\n",
        "\n",
        "c.executemany(\"INSERT INTO customers VALUES (?,?,?)\", many_customers)\n",
        "conn.commit()\n",
        "conn.close()"
      ],
      "execution_count": 7,
      "outputs": []
    },
    {
      "cell_type": "code",
      "metadata": {
        "colab": {
          "base_uri": "https://localhost:8080/"
        },
        "id": "Z8I0U7WJNgO7",
        "outputId": "0dec0aae-570d-4627-d93f-f0895e93bb8a"
      },
      "source": [
        "import sqlite3\n",
        "\n",
        "conn = sqlite3.connect('customer.db')\n",
        "\n",
        "c = conn.cursor()\n",
        "\n",
        "# Selects all from customers \n",
        "c.execute(\"SELECT * FROM customers\")\n",
        "\n",
        "#print(c.fetchall())\n",
        "\n",
        "print(c.fetchone()[0])\n",
        "\n",
        "conn.commit()\n",
        "conn.close()"
      ],
      "execution_count": 8,
      "outputs": [
        {
          "output_type": "stream",
          "text": [
            "John\n"
          ],
          "name": "stdout"
        }
      ]
    },
    {
      "cell_type": "code",
      "metadata": {
        "colab": {
          "base_uri": "https://localhost:8080/"
        },
        "id": "5AWiW9fTHwhT",
        "outputId": "6f0249a5-0fb2-48ce-9c24-1c79a1100d36"
      },
      "source": [
        "import pandas as pd\n",
        "import sqlite3\n",
        "\n",
        "# Read sqlite query results into a pandas DataFrame\n",
        "con = sqlite3.connect(\"/content/customer.db\")\n",
        "df = pd.read_sql_query(\"SELECT * from customers\", con)\n",
        "\n",
        "# Verify that result of SQL query is stored in the dataframe\n",
        "print(df.head(20))\n",
        "\n"
      ],
      "execution_count": 9,
      "outputs": [
        {
          "output_type": "stream",
          "text": [
            "  first_name last_name            email\n",
            "0       John     Elder   john@gmail.com\n",
            "1       Mary     Brown   mary@gmail.com\n",
            "2        Wes     Brown    wes@brown.com\n",
            "3      Steph     Kuewa  steph@kuewa.com\n",
            "4        Dan       Pas      dan@pas.com\n"
          ],
          "name": "stdout"
        }
      ]
    }
  ]
}