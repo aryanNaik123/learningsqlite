{
  "nbformat": 4,
  "nbformat_minor": 0,
  "metadata": {
    "colab": {
      "name": "database.py",
      "provenance": [],
      "collapsed_sections": [],
      "authorship_tag": "ABX9TyOZgm1tisV3qFdN3cxXDCZH",
      "include_colab_link": true
    },
    "kernelspec": {
      "name": "python3",
      "display_name": "Python 3"
    },
    "language_info": {
      "name": "python"
    }
  },
  "cells": [
    {
      "cell_type": "markdown",
      "metadata": {
        "id": "view-in-github",
        "colab_type": "text"
      },
      "source": [
        "<a href=\"https://colab.research.google.com/github/aryanNaik123/learningsqlite/blob/master/database_py.ipynb\" target=\"_parent\"><img src=\"https://colab.research.google.com/assets/colab-badge.svg\" alt=\"Open In Colab\"/></a>"
      ]
    },
    {
      "cell_type": "code",
      "metadata": {
        "id": "7KdyFWcgEp-y"
      },
      "source": [
        "import sqlite3\n",
        "\n",
        "# conn = sqlite3.connect(':memory:')\n",
        "\n",
        "conn = sqlite3.connect('customer.db')"
      ],
      "execution_count": 54,
      "outputs": []
    },
    {
      "cell_type": "code",
      "metadata": {
        "colab": {
          "base_uri": "https://localhost:8080/"
        },
        "id": "FwsgcEFKGCO0",
        "outputId": "b12320f4-bc3a-42e3-84b9-55db52e40f69"
      },
      "source": [
        "! dir"
      ],
      "execution_count": 55,
      "outputs": [
        {
          "output_type": "stream",
          "text": [
            "customer.db  sample_data\n"
          ],
          "name": "stdout"
        }
      ]
    },
    {
      "cell_type": "code",
      "metadata": {
        "id": "v3NEtx7oGgVM"
      },
      "source": [
        "# create a cursor \n",
        "c = conn.cursor()"
      ],
      "execution_count": 56,
      "outputs": []
    },
    {
      "cell_type": "code",
      "metadata": {
        "id": "Vqle3-dGG1um",
        "colab": {
          "base_uri": "https://localhost:8080/",
          "height": 299
        },
        "outputId": "f34aa244-dfbd-4f0f-fa23-a2618cb74bb0"
      },
      "source": [
        "# Create a table \n",
        "c.execute(\"\"\"CREATE TABLE customers (\n",
        "\t\tfirst_name text,\n",
        "\t\tlast_name text,\n",
        "\t\temail text\n",
        "\t\t)\"\"\")\n",
        "\n",
        "\n",
        "# commit our command\n",
        "conn.commit()"
      ],
      "execution_count": 57,
      "outputs": [
        {
          "output_type": "stream",
          "text": [
            "ERROR:root:An unexpected error occurred while tokenizing input\n",
            "The following traceback may be corrupted or invalid\n",
            "The error message is: ('EOF in multi-line string', (1, 3))\n",
            "\n"
          ],
          "name": "stderr"
        },
        {
          "output_type": "error",
          "ename": "OperationalError",
          "evalue": "ignored",
          "traceback": [
            "\u001b[0;31m---------------------------------------------------------------------------\u001b[0m",
            "\u001b[0;31mOperationalError\u001b[0m                          Traceback (most recent call last)",
            "\u001b[0;32m<ipython-input-57-16b5680e5898>\u001b[0m in \u001b[0;36m<module>\u001b[0;34m()\u001b[0m\n\u001b[1;32m      4\u001b[0m                 \u001b[0mlast_name\u001b[0m \u001b[0mtext\u001b[0m\u001b[0;34m,\u001b[0m\u001b[0;34m\u001b[0m\u001b[0;34m\u001b[0m\u001b[0m\n\u001b[1;32m      5\u001b[0m                 \u001b[0memail\u001b[0m \u001b[0mtext\u001b[0m\u001b[0;34m\u001b[0m\u001b[0;34m\u001b[0m\u001b[0m\n\u001b[0;32m----> 6\u001b[0;31m \t\t)\"\"\")\n\u001b[0m\u001b[1;32m      7\u001b[0m \u001b[0;34m\u001b[0m\u001b[0m\n\u001b[1;32m      8\u001b[0m \u001b[0;34m\u001b[0m\u001b[0m\n",
            "\u001b[0;31mOperationalError\u001b[0m: table customers already exists"
          ]
        }
      ]
    },
    {
      "cell_type": "code",
      "metadata": {
        "id": "MOsxrpwfLYor"
      },
      "source": [
        "c.execute(\"INSERT INTO customers VALUES ('John', 'Elder', 'john@gmail.com')\")\n",
        "conn.commit()\n",
        "conn.close()"
      ],
      "execution_count": null,
      "outputs": []
    },
    {
      "cell_type": "code",
      "metadata": {
        "id": "obVfUVDNLvrL"
      },
      "source": [
        "import sqlite3\n",
        "\n",
        "# conn = sqlite3.connect(':memory:')\n",
        "\n",
        "conn = sqlite3.connect('customer.db')\n",
        "\n",
        "c = conn.cursor()\n",
        "\n",
        "c.execute(\"INSERT INTO customers VALUES ('Mary', 'Brown', 'mary@gmail.com')\")\n",
        "conn.commit()\n"
      ],
      "execution_count": null,
      "outputs": []
    },
    {
      "cell_type": "code",
      "metadata": {
        "id": "wT8rpS2iM4ai"
      },
      "source": [
        "import sqlite3\n",
        "\n",
        "conn = sqlite3.connect('customer.db')\n",
        "\n",
        "c = conn.cursor()\n",
        "\n",
        "many_customers = [\n",
        "                  ('Wes', 'Brown', 'wes@brown.com'), \n",
        "                  ('Steph', 'Kuewa', 'steph@kuewa.com'),\n",
        "                  ('Dan', 'Pas', 'dan@pas.com')\n",
        "                ]\n",
        "\n",
        "c.executemany(\"INSERT INTO customers VALUES (?,?,?)\", many_customers)\n",
        "conn.commit()\n",
        "conn.close()"
      ],
      "execution_count": 58,
      "outputs": []
    },
    {
      "cell_type": "code",
      "metadata": {
        "id": "Z8I0U7WJNgO7"
      },
      "source": [
        "import sqlite3\n",
        "\n",
        "conn = sqlite3.connect('customer.db')\n",
        "\n",
        "c = conn.cursor()\n",
        "\n",
        "# Selects all from customers \n",
        "c.execute(\"SELECT * FROM customers\")\n",
        "\n",
        "#print(c.fetchall())\n",
        "\n",
        "print(c.fetchone()[0])\n",
        "\n",
        "conn.commit()\n",
        "conn.close()"
      ],
      "execution_count": null,
      "outputs": []
    },
    {
      "cell_type": "code",
      "metadata": {
        "id": "OAyTDIumWtTq"
      },
      "source": [
        "import sqlite3\n",
        "\n",
        "conn = sqlite3.connect('customer.db')\n",
        "\n",
        "c = conn.cursor()\n",
        "\n",
        "# Selects all from customers \n",
        "c.execute(\"SELECT * FROM customers\")\n",
        "\n",
        "#print(c.fetchall())\n",
        "\n",
        "items = c.fetchall()\n",
        "for item in items: \n",
        "  print(item[0] + \" \" + item[1] + \"\\t\\t\" + item[2])\n",
        "conn.commit()\n",
        "conn.close()"
      ],
      "execution_count": null,
      "outputs": []
    },
    {
      "cell_type": "code",
      "metadata": {
        "id": "DrdVmDEbW_Cn"
      },
      "source": [
        "import sqlite3\n",
        "\n",
        "conn = sqlite3.connect('customer.db')\n",
        "\n",
        "c = conn.cursor()\n",
        "\n",
        "#c.execute(\"SELECT * FROM customers WHERE last_name LIKE 'Br%'\")\n",
        "\n",
        "c.execute(\"SELECT * FROM customers WHERE email LIKE '%gmail.com'\")\n",
        "\n",
        "\n",
        "items = c.fetchall()\n",
        "for item in items: \n",
        "  print(item)\n",
        "conn.commit()\n",
        "conn.close()"
      ],
      "execution_count": null,
      "outputs": []
    },
    {
      "cell_type": "code",
      "metadata": {
        "id": "KES64yN-Zcy5"
      },
      "source": [
        "import sqlite3\n",
        "\n",
        "conn = sqlite3.connect('customer.db')\n",
        "\n",
        "c = conn.cursor()\n",
        "\n",
        "#c.execute(\"\"\"UPDATE customers SET first_name = 'Bob'\n",
        "#            WHERE last_name = 'Elder'\"\"\")\n",
        "\n",
        "conn.commit()\n",
        "\n",
        "#c.execute(\"UPDATE customers SET first_name = 'John' WHERE rowid = 1\")\n",
        "\n",
        "c.execute(\"UPDATE customers SET first_name = 'Wes' WHERE rowid = 4\")\n",
        "\n",
        "c.execute(\"SELECT rowid, * FROM customers\")\n",
        "\n",
        "items = c.fetchall()\n",
        "for item in items: \n",
        "  print(item)\n",
        "conn.commit()\n",
        "conn.close()"
      ],
      "execution_count": null,
      "outputs": []
    },
    {
      "cell_type": "code",
      "metadata": {
        "colab": {
          "base_uri": "https://localhost:8080/"
        },
        "id": "KpXNSwcIbOW_",
        "outputId": "3cfb37ba-2e02-4575-8c75-741966fe4a1d"
      },
      "source": [
        "import sqlite3\n",
        "\n",
        "conn = sqlite3.connect('customer.db')\n",
        "\n",
        "c = conn.cursor()\n",
        "\n",
        "c.execute(\"DELETE from customers WHERE rowid = 6\")\n",
        "\n",
        "conn.commit()\n",
        "\n",
        "c.execute(\"SELECT rowid, * FROM customers\")\n",
        "\n",
        "items = c.fetchall()\n",
        "for item in items: \n",
        "  print(item)\n",
        "conn.commit()\n",
        "conn.close()"
      ],
      "execution_count": 63,
      "outputs": [
        {
          "output_type": "stream",
          "text": [
            "(1, 'John', 'Elder', 'john@gmail.com')\n",
            "(2, 'Mary', 'Brown', 'mary@gmail.com')\n",
            "(3, 'Mary', 'Brown', 'wes@brown.com')\n",
            "(4, 'Wes', 'Brown', 'wes@brown.com')\n"
          ],
          "name": "stdout"
        }
      ]
    },
    {
      "cell_type": "code",
      "metadata": {
        "colab": {
          "base_uri": "https://localhost:8080/"
        },
        "id": "eLjTQ0Nsbz6j",
        "outputId": "d3262db6-4ba5-4ba8-a9e6-eb7d0da44630"
      },
      "source": [
        "import sqlite3\n",
        "\n",
        "conn = sqlite3.connect('customer.db')\n",
        "\n",
        "c = conn.cursor()\n",
        "\n",
        "\n",
        "c.execute(\"SELECT rowid, * FROM customers ORDER BY last_name DESC\")\n",
        "\n",
        "items = c.fetchall()\n",
        "for item in items: \n",
        "  print(item)\n",
        "conn.commit()\n",
        "conn.close()"
      ],
      "execution_count": 67,
      "outputs": [
        {
          "output_type": "stream",
          "text": [
            "(1, 'John', 'Elder', 'john@gmail.com')\n",
            "(2, 'Mary', 'Brown', 'mary@gmail.com')\n",
            "(3, 'Mary', 'Brown', 'wes@brown.com')\n",
            "(4, 'Wes', 'Brown', 'wes@brown.com')\n"
          ],
          "name": "stdout"
        }
      ]
    },
    {
      "cell_type": "code",
      "metadata": {
        "colab": {
          "base_uri": "https://localhost:8080/"
        },
        "id": "kyJHyR3jceAx",
        "outputId": "b813c437-a35a-49fa-aafe-8f4e40aded2d"
      },
      "source": [
        "import sqlite3\n",
        "\n",
        "conn = sqlite3.connect('customer.db')\n",
        "\n",
        "c = conn.cursor()\n",
        "\n",
        "\n",
        "c.execute(\"SELECT rowid, * FROM customers WHERE last_name LIKE 'Br%' AND rowid = 3\")\n",
        "\n",
        "items = c.fetchall()\n",
        "for item in items: \n",
        "  print(item)\n",
        "conn.commit()\n",
        "conn.close()"
      ],
      "execution_count": 69,
      "outputs": [
        {
          "output_type": "stream",
          "text": [
            "(3, 'Mary', 'Brown', 'wes@brown.com')\n"
          ],
          "name": "stdout"
        }
      ]
    },
    {
      "cell_type": "code",
      "metadata": {
        "id": "5AWiW9fTHwhT"
      },
      "source": [
        "import pandas as pd\n",
        "import sqlite3\n",
        "\n",
        "# Read sqlite query results into a pandas DataFrame\n",
        "con = sqlite3.connect(\"/content/customer.db\")\n",
        "df = pd.read_sql_query(\"SELECT * from customers\", con)\n",
        "\n",
        "# Verify that result of SQL query is stored in the dataframe\n",
        "print(df.head(20))\n",
        "\n"
      ],
      "execution_count": null,
      "outputs": []
    }
  ]
}