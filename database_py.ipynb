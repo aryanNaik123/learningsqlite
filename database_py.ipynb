{
  "nbformat": 4,
  "nbformat_minor": 0,
  "metadata": {
    "colab": {
      "name": "database.py",
      "provenance": [],
      "collapsed_sections": [],
      "authorship_tag": "ABX9TyMyzPEELXqrCOfdFdWiDPrk",
      "include_colab_link": true
    },
    "kernelspec": {
      "name": "python3",
      "display_name": "Python 3"
    },
    "language_info": {
      "name": "python"
    }
  },
  "cells": [
    {
      "cell_type": "markdown",
      "metadata": {
        "id": "view-in-github",
        "colab_type": "text"
      },
      "source": [
        "<a href=\"https://colab.research.google.com/github/aryanNaik123/learningsqlite/blob/master/database_py.ipynb\" target=\"_parent\"><img src=\"https://colab.research.google.com/assets/colab-badge.svg\" alt=\"Open In Colab\"/></a>"
      ]
    },
    {
      "cell_type": "markdown",
      "metadata": {
        "id": "xtoUxHIQcEsz"
      },
      "source": [
        "## Connect to Database"
      ]
    },
    {
      "cell_type": "code",
      "metadata": {
        "id": "7KdyFWcgEp-y"
      },
      "source": [
        "import sqlite3\n",
        "\n",
        "# conn = sqlite3.connect(':memory:')\n",
        "\n",
        "conn = sqlite3.connect('customer.db')\n",
        "\n",
        "# create a cursor \n",
        "c = conn.cursor()"
      ],
      "execution_count": 19,
      "outputs": []
    },
    {
      "cell_type": "markdown",
      "metadata": {
        "id": "4-ZwyAXwcBOn"
      },
      "source": [
        "## Create a table"
      ]
    },
    {
      "cell_type": "code",
      "metadata": {
        "id": "Vqle3-dGG1um"
      },
      "source": [
        "# Create a table \n",
        "c.execute(\"\"\"CREATE TABLE customers (\n",
        "\t\tfirst_name text,\n",
        "\t\tlast_name text,\n",
        "\t\temail text\n",
        "\t\t)\"\"\")\n",
        "\n",
        "\n",
        "# commit our command\n",
        "conn.commit()"
      ],
      "execution_count": 3,
      "outputs": []
    },
    {
      "cell_type": "markdown",
      "metadata": {
        "id": "5RrvBvjkbtw4"
      },
      "source": [
        "## Insert One Record Into Table "
      ]
    },
    {
      "cell_type": "code",
      "metadata": {
        "id": "MOsxrpwfLYor"
      },
      "source": [
        "c.execute(\"INSERT INTO customers VALUES ('John', 'Elder', 'john@gmail.com')\")\n",
        "conn.commit()\n",
        "conn.close()"
      ],
      "execution_count": 4,
      "outputs": []
    },
    {
      "cell_type": "code",
      "metadata": {
        "id": "obVfUVDNLvrL"
      },
      "source": [
        "import sqlite3\n",
        "\n",
        "# conn = sqlite3.connect(':memory:')\n",
        "\n",
        "conn = sqlite3.connect('customer.db')\n",
        "\n",
        "c = conn.cursor()\n",
        "\n",
        "c.execute(\"INSERT INTO customers VALUES ('Mary', 'Brown', 'mary@gmail.com')\")\n",
        "conn.commit()\n"
      ],
      "execution_count": 5,
      "outputs": []
    },
    {
      "cell_type": "markdown",
      "metadata": {
        "id": "F4WOHKpgbpyG"
      },
      "source": [
        "## Insert Many Records"
      ]
    },
    {
      "cell_type": "code",
      "metadata": {
        "id": "wT8rpS2iM4ai"
      },
      "source": [
        "import sqlite3\n",
        "\n",
        "conn = sqlite3.connect('customer.db')\n",
        "\n",
        "c = conn.cursor()\n",
        "\n",
        "many_customers = [\n",
        "                  ('Wes', 'Brown', 'wes@brown.com'), \n",
        "                  ('Steph', 'Kuewa', 'steph@kuewa.com'),\n",
        "                  ('Dan', 'Pas', 'dan@pas.com')\n",
        "                ]\n",
        "\n",
        "c.executemany(\"INSERT INTO customers VALUES (?,?,?)\", many_customers)\n",
        "conn.commit()\n",
        "conn.close()"
      ],
      "execution_count": 6,
      "outputs": []
    },
    {
      "cell_type": "markdown",
      "metadata": {
        "id": "Vz697J1KblXM"
      },
      "source": [
        "Query and Fetch all"
      ]
    },
    {
      "cell_type": "code",
      "metadata": {
        "colab": {
          "base_uri": "https://localhost:8080/"
        },
        "id": "Z8I0U7WJNgO7",
        "outputId": "a2ce3d8b-65c4-491a-cef0-945ba3565fc9"
      },
      "source": [
        "import sqlite3\n",
        "\n",
        "conn = sqlite3.connect('customer.db')\n",
        "\n",
        "c = conn.cursor()\n",
        "\n",
        "# Selects all from customers \n",
        "c.execute(\"SELECT * FROM customers\")\n",
        "\n",
        "#print(c.fetchall())\n",
        "\n",
        "print(c.fetchone()[0])\n",
        "\n",
        "conn.commit()\n",
        "conn.close()"
      ],
      "execution_count": 7,
      "outputs": [
        {
          "output_type": "stream",
          "text": [
            "John\n"
          ],
          "name": "stdout"
        }
      ]
    },
    {
      "cell_type": "markdown",
      "metadata": {
        "id": "Fqh128mibadS"
      },
      "source": [
        "## Formatting"
      ]
    },
    {
      "cell_type": "code",
      "metadata": {
        "colab": {
          "base_uri": "https://localhost:8080/"
        },
        "id": "OAyTDIumWtTq",
        "outputId": "da5109cb-27b0-47c3-87ff-b8f9f9434a76"
      },
      "source": [
        "import sqlite3\n",
        "\n",
        "conn = sqlite3.connect('customer.db')\n",
        "\n",
        "c = conn.cursor()\n",
        "\n",
        "# Selects all from customers \n",
        "c.execute(\"SELECT * FROM customers\")\n",
        "\n",
        "#print(c.fetchall())\n",
        "\n",
        "items = c.fetchall()\n",
        "for item in items: \n",
        "  print(item[0] + \" \" + item[1] + \"\\t\\t\" + item[2])\n",
        "conn.commit()\n",
        "conn.close()"
      ],
      "execution_count": 8,
      "outputs": [
        {
          "output_type": "stream",
          "text": [
            "John Elder\t\tjohn@gmail.com\n",
            "Mary Brown\t\tmary@gmail.com\n",
            "Wes Brown\t\twes@brown.com\n",
            "Steph Kuewa\t\tsteph@kuewa.com\n",
            "Dan Pas\t\tdan@pas.com\n"
          ],
          "name": "stdout"
        }
      ]
    },
    {
      "cell_type": "markdown",
      "metadata": {
        "id": "cbYCl_a8bhXI"
      },
      "source": [
        "## Primary Key"
      ]
    },
    {
      "cell_type": "code",
      "metadata": {
        "colab": {
          "base_uri": "https://localhost:8080/"
        },
        "id": "Ii5OUsRCbb_w",
        "outputId": "6970781d-3dd3-4b14-88cc-1baf37a74494"
      },
      "source": [
        "import sqlite3\n",
        "\n",
        "conn = sqlite3.connect('customer.db')\n",
        "\n",
        "c = conn.cursor()\n",
        "\n",
        "# Selects all from customers \n",
        "c.execute(\"SELECT rowid, * FROM customers\")\n",
        "\n",
        "#print(c.fetchall())\n",
        "\n",
        "items = c.fetchall()\n",
        "for item in items: \n",
        "  print(item)\n",
        "conn.commit()\n",
        "conn.close()"
      ],
      "execution_count": 18,
      "outputs": [
        {
          "output_type": "stream",
          "text": [
            "(1, 'John', 'Elder', 'john@gmail.com')\n",
            "(2, 'Mary', 'Brown', 'mary@gmail.com')\n",
            "(3, 'Wes', 'Brown', 'wes@brown.com')\n",
            "(4, 'Wes', 'Kuewa', 'steph@kuewa.com')\n",
            "(5, 'Dan', 'Pas', 'dan@pas.com')\n"
          ],
          "name": "stdout"
        }
      ]
    },
    {
      "cell_type": "markdown",
      "metadata": {
        "id": "G96pRLBibIlQ"
      },
      "source": [
        "## WHERE clause\n"
      ]
    },
    {
      "cell_type": "code",
      "metadata": {
        "colab": {
          "base_uri": "https://localhost:8080/"
        },
        "id": "DrdVmDEbW_Cn",
        "outputId": "b81534bf-b2b6-4949-c025-1f5b9dab0548"
      },
      "source": [
        "import sqlite3\n",
        "\n",
        "conn = sqlite3.connect('customer.db')\n",
        "\n",
        "c = conn.cursor()\n",
        "\n",
        "#c.execute(\"SELECT * FROM customers WHERE last_name LIKE 'Br%'\")\n",
        "\n",
        "c.execute(\"SELECT * FROM customers WHERE email LIKE '%gmail.com'\")\n",
        "\n",
        "\n",
        "items = c.fetchall()\n",
        "for item in items: \n",
        "  print(item)\n",
        "conn.commit()\n",
        "conn.close()"
      ],
      "execution_count": 9,
      "outputs": [
        {
          "output_type": "stream",
          "text": [
            "('John', 'Elder', 'john@gmail.com')\n",
            "('Mary', 'Brown', 'mary@gmail.com')\n"
          ],
          "name": "stdout"
        }
      ]
    },
    {
      "cell_type": "markdown",
      "metadata": {
        "id": "b9RR9Wy_bG0A"
      },
      "source": [
        "## Update\n"
      ]
    },
    {
      "cell_type": "code",
      "metadata": {
        "colab": {
          "base_uri": "https://localhost:8080/"
        },
        "id": "KES64yN-Zcy5",
        "outputId": "9b8fab52-f6c4-4fbd-de2a-04240428f53e"
      },
      "source": [
        "import sqlite3\n",
        "\n",
        "conn = sqlite3.connect('customer.db')\n",
        "\n",
        "c = conn.cursor()\n",
        "\n",
        "#c.execute(\"\"\"UPDATE customers SET first_name = 'Bob'\n",
        "#            WHERE last_name = 'Elder'\"\"\")\n",
        "\n",
        "conn.commit()\n",
        "\n",
        "#c.execute(\"UPDATE customers SET first_name = 'John' WHERE rowid = 1\")\n",
        "\n",
        "c.execute(\"UPDATE customers SET first_name = 'Wes' WHERE rowid = 4\")\n",
        "\n",
        "c.execute(\"SELECT rowid, * FROM customers\")\n",
        "\n",
        "items = c.fetchall()\n",
        "for item in items: \n",
        "  print(item)\n",
        "conn.commit()\n",
        "conn.close()"
      ],
      "execution_count": 10,
      "outputs": [
        {
          "output_type": "stream",
          "text": [
            "(1, 'John', 'Elder', 'john@gmail.com')\n",
            "(2, 'Mary', 'Brown', 'mary@gmail.com')\n",
            "(3, 'Wes', 'Brown', 'wes@brown.com')\n",
            "(4, 'Wes', 'Kuewa', 'steph@kuewa.com')\n",
            "(5, 'Dan', 'Pas', 'dan@pas.com')\n"
          ],
          "name": "stdout"
        }
      ]
    },
    {
      "cell_type": "markdown",
      "metadata": {
        "id": "X7zZCJ39bAf0"
      },
      "source": [
        "## Delete"
      ]
    },
    {
      "cell_type": "code",
      "metadata": {
        "colab": {
          "base_uri": "https://localhost:8080/"
        },
        "id": "KpXNSwcIbOW_",
        "outputId": "44460981-4312-41a5-aa42-b01c7c026a46"
      },
      "source": [
        "import sqlite3\n",
        "\n",
        "conn = sqlite3.connect('customer.db')\n",
        "\n",
        "c = conn.cursor()\n",
        "\n",
        "c.execute(\"DELETE from customers WHERE rowid = 6\")\n",
        "\n",
        "conn.commit()\n",
        "\n",
        "c.execute(\"SELECT rowid, * FROM customers\")\n",
        "\n",
        "items = c.fetchall()\n",
        "for item in items: \n",
        "  print(item)\n",
        "conn.commit()\n",
        "conn.close()"
      ],
      "execution_count": 11,
      "outputs": [
        {
          "output_type": "stream",
          "text": [
            "(1, 'John', 'Elder', 'john@gmail.com')\n",
            "(2, 'Mary', 'Brown', 'mary@gmail.com')\n",
            "(3, 'Wes', 'Brown', 'wes@brown.com')\n",
            "(4, 'Wes', 'Kuewa', 'steph@kuewa.com')\n",
            "(5, 'Dan', 'Pas', 'dan@pas.com')\n"
          ],
          "name": "stdout"
        }
      ]
    },
    {
      "cell_type": "markdown",
      "metadata": {
        "id": "RVontm8Fa-o6"
      },
      "source": [
        "## Order Results"
      ]
    },
    {
      "cell_type": "code",
      "metadata": {
        "colab": {
          "base_uri": "https://localhost:8080/"
        },
        "id": "eLjTQ0Nsbz6j",
        "outputId": "4324da0f-67fa-474d-ed95-d7eb4f20f727"
      },
      "source": [
        "import sqlite3\n",
        "\n",
        "conn = sqlite3.connect('customer.db')\n",
        "\n",
        "c = conn.cursor()\n",
        "\n",
        "\n",
        "c.execute(\"SELECT rowid, * FROM customers ORDER BY last_name DESC\")\n",
        "\n",
        "items = c.fetchall()\n",
        "for item in items: \n",
        "  print(item)\n",
        "conn.commit()\n",
        "conn.close()"
      ],
      "execution_count": 12,
      "outputs": [
        {
          "output_type": "stream",
          "text": [
            "(5, 'Dan', 'Pas', 'dan@pas.com')\n",
            "(4, 'Wes', 'Kuewa', 'steph@kuewa.com')\n",
            "(1, 'John', 'Elder', 'john@gmail.com')\n",
            "(2, 'Mary', 'Brown', 'mary@gmail.com')\n",
            "(3, 'Wes', 'Brown', 'wes@brown.com')\n"
          ],
          "name": "stdout"
        }
      ]
    },
    {
      "cell_type": "markdown",
      "metadata": {
        "id": "UZvhbgEwaohJ"
      },
      "source": [
        "## And/Or\n"
      ]
    },
    {
      "cell_type": "code",
      "metadata": {
        "colab": {
          "base_uri": "https://localhost:8080/"
        },
        "id": "kyJHyR3jceAx",
        "outputId": "27856022-8109-46d1-ce65-b9fcc2b749c1"
      },
      "source": [
        "import sqlite3\n",
        "\n",
        "conn = sqlite3.connect('customer.db')\n",
        "\n",
        "c = conn.cursor()\n",
        "\n",
        "\n",
        "c.execute(\"SELECT rowid, * FROM customers WHERE last_name LIKE 'Br%' AND rowid = 3\")\n",
        "\n",
        "items = c.fetchall()\n",
        "for item in items: \n",
        "  print(item)\n",
        "conn.commit()\n",
        "conn.close()"
      ],
      "execution_count": 13,
      "outputs": [
        {
          "output_type": "stream",
          "text": [
            "(3, 'Wes', 'Brown', 'wes@brown.com')\n"
          ],
          "name": "stdout"
        }
      ]
    },
    {
      "cell_type": "markdown",
      "metadata": {
        "id": "JsSiBNP0al85"
      },
      "source": [
        "## Limit "
      ]
    },
    {
      "cell_type": "code",
      "metadata": {
        "colab": {
          "base_uri": "https://localhost:8080/"
        },
        "id": "Byr088_UahGX",
        "outputId": "c265a959-b9a4-4196-9548-98c9dba3cc68"
      },
      "source": [
        "import sqlite3\n",
        "\n",
        "conn = sqlite3.connect('customer.db')\n",
        "\n",
        "c = conn.cursor()\n",
        "\n",
        "\n",
        "c.execute(\"SELECT rowid, * FROM customers LIMIT 2\")\n",
        "\n",
        "items = c.fetchall()\n",
        "for item in items: \n",
        "  print(item)\n",
        "conn.commit()\n",
        "conn.close()"
      ],
      "execution_count": 16,
      "outputs": [
        {
          "output_type": "stream",
          "text": [
            "(1, 'John', 'Elder', 'john@gmail.com')\n",
            "(2, 'Mary', 'Brown', 'mary@gmail.com')\n"
          ],
          "name": "stdout"
        }
      ]
    },
    {
      "cell_type": "code",
      "metadata": {
        "colab": {
          "base_uri": "https://localhost:8080/"
        },
        "id": "5AWiW9fTHwhT",
        "outputId": "d16fd8e2-69c8-42cb-e450-7f5477e86403"
      },
      "source": [
        "import pandas as pd\n",
        "import sqlite3\n",
        "\n",
        "# Read sqlite query results into a pandas DataFrame\n",
        "con = sqlite3.connect(\"/content/customer.db\")\n",
        "df = pd.read_sql_query(\"SELECT * from customers\", con)\n",
        "\n",
        "# Verify that result of SQL query is stored in the dataframe\n",
        "print(df.head(20))\n",
        "\n"
      ],
      "execution_count": 15,
      "outputs": [
        {
          "output_type": "stream",
          "text": [
            "  first_name last_name            email\n",
            "0       John     Elder   john@gmail.com\n",
            "1       Mary     Brown   mary@gmail.com\n",
            "2        Wes     Brown    wes@brown.com\n",
            "3        Wes     Kuewa  steph@kuewa.com\n",
            "4        Dan       Pas      dan@pas.com\n"
          ],
          "name": "stdout"
        }
      ]
    }
  ]
}